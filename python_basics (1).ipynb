{
  "nbformat": 4,
  "nbformat_minor": 0,
  "metadata": {
    "colab": {
      "provenance": []
    },
    "kernelspec": {
      "name": "python3",
      "display_name": "Python 3"
    },
    "language_info": {
      "name": "python"
    }
  },
  "cells": [
    {
      "cell_type": "markdown",
      "source": [
        "# **python** **Basics** **Questions**\n",
        "\n",
        "1. What is Python, and why is it popular?\n",
        "-   Python is a high-level, interpreted programming language known for its clear and readable syntax. It supports multiple programming paradigms, including procedural, object-oriented, and functional programming. Python is dynamically typed, meaning you don’t need to declare variable types, and it runs on various platforms such as Windows, macOS, and Linux. It is widely used in web development, data science, automation, artificial intelligence, and more\n",
        "\n",
        "- Python is popular because it’s easy to learn and use, even for beginners. Its syntax is clean and close to English, which speeds up development and reduces errors. It has a massive ecosystem of libraries and frameworks for different tasks—like Django for web development, Pandas for data analysis, and TensorFlow for machine learning. Python also has strong community support, cross-platform compatibility, and is used by major companies like Google, Netflix, and NASA, making it a go-to language for a wide range of applications.\n",
        "\n",
        "\n",
        "2. What is an interpreter in Python?\n",
        "- An interpreter in Python is a program that reads and executes Python code line by line, rather than compiling the whole program into machine code beforehand (like compiled languages such as C or Java).\n",
        "\n",
        "- When you run a Python script, the interpreter performs the following steps:\n",
        "\n",
        "     1 >  Reads your Python code.\n",
        "\n",
        "     2 >  Parses it into an intermediate form (bytecode).\n",
        "\n",
        "     3  >  Executes it line by line using a component called the Python Virtual Machine (PVM).\n",
        "\n",
        "3. What are pre-defined keywords in Python?\n",
        " - Pre-defined keywords in Python are reserved words that have special meaning in the language. They are part of Python’s syntax and cannot be used as variable names, function names, or identifiers.\n",
        "\n",
        "- These keywords are used to define the structure and rules of Python programs.\n",
        "- xamples of Python Keywords:\n",
        "\n",
        "   > Control Flow: if, else, elif, for, while, break, continue, pass\n",
        "\n",
        "    > Function & Class Definition: def, class, return, lambda\n",
        "\n",
        "    > Boolean & Null: True, False, None\n",
        "\n",
        "    > Exception Handling: try, except, finally, raise, assert\n",
        "\n",
        "   > Importing Modules: import, from, as\n",
        "\n",
        "   > Variable Scope: global, nonlocal\n",
        "\n",
        "  > Logical Operators: and, or, not, in, is etc.\n",
        "\n",
        "\n"
      ],
      "metadata": {
        "id": "Xt5dwNIfZfZ4"
      }
    },
    {
      "cell_type": "markdown",
      "source": [
        "4. Can keywords be used as variable names ?\n",
        " - Keywords in Python are special reserved words that define the rules and structure of the language.\n",
        "They already have predefined purposes like decision-making (if, else) or looping (for, while).\n",
        "Hence, they cannot be used as variable names by the programmer.\n",
        "\n",
        "5.  What is mutability in Python?\n",
        "- Mutability in Python means the ability of an object to be changed after it is created.\n",
        "Objects like lists, sets, and dictionaries are mutable because their contents can be modified.\n",
        "Objects like strings, tuples, and integers are immutable as their values cannot be altered.\n",
        "6.  Why are lists mutable, but tuples are immutable?\n",
        "- Lists in Python are mutable, meaning we can change, add, or remove elements after the list is created.\n",
        "For example, my_list[0] = 10 works because lists allow modification.\n",
        "On the other hand, tuples are immutable, so their elements cannot be changed once defined.\n",
        "If we try to modify a tuple, Python will raise an error.\n",
        "This immutability makes tuples more memory-efficient and reliable for storing fixed data.\n",
        "\n",
        "7.   What is the difference between “==” and “is” operators in Python?\n",
        "- The \"==\" operator in Python checks whether two objects have the same value.\n",
        "The \"is\" operator checks whether two variables refer to the same object in memory.\n",
        "For example, two lists with the same elements are == but not is.\n",
        "In short: \"==\" → value equality, \"is\" → identity check.  \n",
        "\n",
        "8.    What are logical operators in Python?\n",
        "- Logical operators are used to combine conditional statements and return Boolean results (True or False).\n",
        "Python has three logical operators:\n",
        "\n",
        "- and → returns True if both conditions are true.\n",
        "\n",
        "- or → returns True if at least one condition is true.\n",
        "\n",
        "- not → returns the opposite of the condition (negation).\n",
        "\n",
        "9.  What is type casting in Python ?\n",
        "-  Type casting in Python means converting one data type into another.\n",
        "It helps in making data compatible for operations.\n",
        "Python supports type casting using functions like int(), float(), str(), list(), etc.\n",
        "For example: x = int(\"5\") converts a string into an integer.\n",
        "Thus, type casting ensures smooth execution of programs with different data types.\n",
        "10.   What is the difference between implicit and explicit type casting?\n",
        "- Implicit type casting in Python is done automatically by the interpreter.\n",
        "It usually converts a smaller data type into a larger one to avoid data loss.\n",
        "Example: 5 + 2.0 → 7.0 (int is converted to float).\n",
        "\n",
        "- Explicit type casting is done manually by the programmer.\n",
        "It uses functions like int(), float(), str(), list(), etc.\n",
        "Example: int(\"10\") → 10 (string is converted to integer).\n",
        "\n",
        "11. What is the purpose of conditional statements in Python?\n",
        "- The purpose of conditional statements in Python is to make decisions in a program based on conditions.\n",
        "They allow the program to execute a block of code only if a certain condition is true, and skip or choose another block if it is false.\n",
        "Common conditional statements are if, if-else, and if-elif-else.\n",
        "\n",
        "12.   How does the elif statement work ?\n",
        "- The elif (else if) statement in Python is used to check multiple conditions one by one.\n",
        "When an if condition is false, Python evaluates the elif condition.\n",
        "If an elif condition is true, its block of code executes, and the remaining conditions are skipped.\n",
        "If none of the if or elif conditions are true, the else block (if present) runs.\n",
        "13.   What is the difference between for and while loops  ?\n",
        "-  A for loop in Python is used when the number of iterations is known.\n",
        "It is mainly used to iterate over sequences like lists, strings, or ranges.\n",
        "Example: for i in range(5): print(i) runs 5 times.\n",
        "\n",
        "- A while loop is used when the number of iterations is not fixed.\n",
        "It keeps running until the given condition becomes false.\n",
        "Example: while x < 5: print(x); x += 1.\n",
        "14. Describe a scenario where a while loop is more suitable than a for loop.\n",
        "-  A while loop is better when the number of iterations is unknown.\n",
        "It keeps running until a condition becomes false.\n",
        "For example, taking user input until they type \"exit\".\n",
        "\n",
        "\n",
        "\n",
        "\n"
      ],
      "metadata": {
        "id": "he13kQoNZfg_"
      }
    },
    {
      "cell_type": "markdown",
      "source": [
        "# **Practical Questions**"
      ],
      "metadata": {
        "id": "0nU0ViNtfKsC"
      }
    },
    {
      "cell_type": "code",
      "source": [
        "# 1 Write a Python program to print \"Hello, World!\n",
        "print(\"hello, world\")"
      ],
      "metadata": {
        "colab": {
          "base_uri": "https://localhost:8080/"
        },
        "id": "IZBgZRo4mmkM",
        "outputId": "201e5f65-4eab-42ab-83ac-86d7239db3ed"
      },
      "execution_count": null,
      "outputs": [
        {
          "output_type": "stream",
          "name": "stdout",
          "text": [
            "hello, world\n"
          ]
        }
      ]
    },
    {
      "cell_type": "code",
      "source": [
        "# 2. Write a Python program that displays your name and age\n",
        "\n",
        "name = \"Sahil\"\n",
        "age = 22\n",
        "print(\"My name is\", name)\n",
        "print(\"My age is\", age)\n",
        "\n"
      ],
      "metadata": {
        "colab": {
          "base_uri": "https://localhost:8080/"
        },
        "id": "2zn_h_E1nUpQ",
        "outputId": "24ab62ed-d825-4ac3-b99f-8b347dbcd8e2"
      },
      "execution_count": null,
      "outputs": [
        {
          "output_type": "stream",
          "name": "stdout",
          "text": [
            "My name is Sahil\n",
            "My age is 22\n"
          ]
        }
      ]
    },
    {
      "cell_type": "code",
      "source": [
        "# 3.  Write code to print all the pre-defined keywords in Python using the keyword library.\n",
        "import keyword\n",
        "print(\"List of Python Keywords:\")\n",
        "print(keyword.kwlist)    # prints the list\n"
      ],
      "metadata": {
        "colab": {
          "base_uri": "https://localhost:8080/"
        },
        "id": "t4EihSYenlo7",
        "outputId": "bc7cd042-b7bf-4324-c878-458a893da001"
      },
      "execution_count": null,
      "outputs": [
        {
          "output_type": "stream",
          "name": "stdout",
          "text": [
            "List of Python Keywords:\n",
            "['False', 'None', 'True', 'and', 'as', 'assert', 'async', 'await', 'break', 'class', 'continue', 'def', 'del', 'elif', 'else', 'except', 'finally', 'for', 'from', 'global', 'if', 'import', 'in', 'is', 'lambda', 'nonlocal', 'not', 'or', 'pass', 'raise', 'return', 'try', 'while', 'with', 'yield']\n"
          ]
        }
      ]
    },
    {
      "cell_type": "code",
      "source": [
        "# 4. Write a program that checks if a given word is a Python keyword\n",
        "import keyword\n",
        "word= input(\"enter your word :- \")\n",
        "if word in keyword.kwlist:\n",
        "  print(word,\"is a keyword\")\n",
        "else:\n",
        "  print(word,\"is not a keyword\")"
      ],
      "metadata": {
        "colab": {
          "base_uri": "https://localhost:8080/"
        },
        "id": "iBUYW4LyWEVa",
        "outputId": "38500c72-f573-48c6-bc8e-6ed45ee265a9"
      },
      "execution_count": 4,
      "outputs": [
        {
          "output_type": "stream",
          "name": "stdout",
          "text": [
            "enter your word :- while\n",
            "while is a keyword\n"
          ]
        }
      ]
    },
    {
      "cell_type": "code",
      "source": [
        "# 5. . Create a list and tuple in Python, and demonstrate how attempting to change an element works differently\n",
        "# for each.\n",
        "my_list = [\"sahil\", 1, 2, 3, 4, 3+4j]\n",
        "my_tuple = (\"sahil\", 1, 2, 3, 4, 3+4j)\n",
        "\n",
        "print(\"this is original list :- \", my_list)\n",
        "print(\"this is original tuple\" ,my_tuple)\n",
        "\n",
        "my_list[0] = 100\n",
        "print(\"\\nthis is updated list :- \", my_list)\n",
        "my_tuple[0] = 100\n",
        "print(\"this is updated tuple\" ,my_tuple)"
      ],
      "metadata": {
        "colab": {
          "base_uri": "https://localhost:8080/",
          "height": 263
        },
        "id": "JQBTECkAbTad",
        "outputId": "feccc58f-b4a3-41bb-a90c-e8f2e2f05573"
      },
      "execution_count": 20,
      "outputs": [
        {
          "output_type": "stream",
          "name": "stdout",
          "text": [
            "this is original list :-  ['sahil', 1, 2, 3, 4, (3+4j)]\n",
            "this is original tuple ('sahil', 1, 2, 3, 4, (3+4j))\n",
            "\n",
            "this is updated list :-  [100, 1, 2, 3, 4, (3+4j)]\n"
          ]
        },
        {
          "output_type": "error",
          "ename": "TypeError",
          "evalue": "'tuple' object does not support item assignment",
          "traceback": [
            "\u001b[0;31m---------------------------------------------------------------------------\u001b[0m",
            "\u001b[0;31mTypeError\u001b[0m                                 Traceback (most recent call last)",
            "\u001b[0;32m/tmp/ipython-input-1756941336.py\u001b[0m in \u001b[0;36m<cell line: 0>\u001b[0;34m()\u001b[0m\n\u001b[1;32m      9\u001b[0m \u001b[0mmy_list\u001b[0m\u001b[0;34m[\u001b[0m\u001b[0;36m0\u001b[0m\u001b[0;34m]\u001b[0m \u001b[0;34m=\u001b[0m \u001b[0;36m100\u001b[0m\u001b[0;34m\u001b[0m\u001b[0;34m\u001b[0m\u001b[0m\n\u001b[1;32m     10\u001b[0m \u001b[0mprint\u001b[0m\u001b[0;34m(\u001b[0m\u001b[0;34m\"\\nthis is updated list :- \"\u001b[0m\u001b[0;34m,\u001b[0m \u001b[0mmy_list\u001b[0m\u001b[0;34m)\u001b[0m\u001b[0;34m\u001b[0m\u001b[0;34m\u001b[0m\u001b[0m\n\u001b[0;32m---> 11\u001b[0;31m \u001b[0mmy_tuple\u001b[0m\u001b[0;34m[\u001b[0m\u001b[0;36m0\u001b[0m\u001b[0;34m]\u001b[0m \u001b[0;34m=\u001b[0m \u001b[0;36m100\u001b[0m\u001b[0;34m\u001b[0m\u001b[0;34m\u001b[0m\u001b[0m\n\u001b[0m\u001b[1;32m     12\u001b[0m \u001b[0mprint\u001b[0m\u001b[0;34m(\u001b[0m\u001b[0;34m\"this is updated tuple\"\u001b[0m \u001b[0;34m,\u001b[0m\u001b[0mmy_tuple\u001b[0m\u001b[0;34m)\u001b[0m\u001b[0;34m\u001b[0m\u001b[0;34m\u001b[0m\u001b[0m\n",
            "\u001b[0;31mTypeError\u001b[0m: 'tuple' object does not support item assignment"
          ]
        }
      ]
    },
    {
      "cell_type": "code",
      "source": [
        "# 6. Write a function to demonstrate the behavior of mutable and immutable arguments.\n",
        "def demo(a, b):\n",
        "  a = a + 10        # int (immutable) → no change outside\n",
        "  b.append(99)      # list (mutable) → changes outside\n",
        "x = 5\n",
        "y = [1, 2]\n",
        "demo(x, y)\n",
        "print(\"x:\", x)   # unchanged\n",
        "print(\"y:\", y)   # changed\n"
      ],
      "metadata": {
        "colab": {
          "base_uri": "https://localhost:8080/"
        },
        "id": "MQCL_qPeeu-6",
        "outputId": "ad5a8ba7-a22f-47e3-adca-b57bd0b39a8a"
      },
      "execution_count": 94,
      "outputs": [
        {
          "output_type": "stream",
          "name": "stdout",
          "text": [
            "x: 5\n",
            "y: [1, 2, 99]\n"
          ]
        }
      ]
    },
    {
      "cell_type": "code",
      "source": [
        "# 7. Write a program that performs basic arithmetic operations on two user-input numbers.\n",
        "A = int(input(\"Enter first number\"))\n",
        "B = int(input(\"Enter second number\"))\n",
        "Sum = A + B\n",
        "print(\"Sum of two numbers :-\",Sum)\n",
        "sub = A - B\n",
        "print(\"difference of two numbers\", sub)\n",
        "mul = A * B\n",
        "print(\"product of two numbers\", mul)\n",
        "Div = A / B\n",
        "print(\"Division of two numbers:\", Div)\n",
        "FloorDiv = A // B\n",
        "print(\"Floor Division of two numbers:\", FloorDiv)\n",
        "Mod = A % B\n",
        "print(\"Remainder (Modulus):\", Mod)\n",
        "Exp = A ** B\n",
        "print(\"Exponentiation (A^B):\", Exp)"
      ],
      "metadata": {
        "colab": {
          "base_uri": "https://localhost:8080/"
        },
        "id": "YkXq8yoZfk8z",
        "outputId": "9da824db-6cb1-4c05-ef80-047a03e20724"
      },
      "execution_count": 25,
      "outputs": [
        {
          "output_type": "stream",
          "name": "stdout",
          "text": [
            "Enter first number15\n",
            "Enter second number14\n",
            "Sum of two numbers :- 29\n",
            "difference of two numbers 1\n",
            "product of two numbers 210\n",
            "Division of two numbers: 1.0714285714285714\n",
            "Floor Division of two numbers: 1\n",
            "Remainder (Modulus): 1\n",
            "Exponentiation (A^B): 29192926025390625\n"
          ]
        }
      ]
    },
    {
      "cell_type": "code",
      "source": [
        "# 8. Write a program to demonstrate the use of logical operators.\n",
        "A = 10\n",
        "B = 15\n",
        "print( A > 5 and B < 20  )\n",
        "print( A > 5 or B < 10  )\n",
        "print( not(A > 5))"
      ],
      "metadata": {
        "colab": {
          "base_uri": "https://localhost:8080/"
        },
        "id": "oo6UPDmZiRI4",
        "outputId": "6739a59b-e026-4d5c-d93f-b9e30b25b4c2"
      },
      "execution_count": 39,
      "outputs": [
        {
          "output_type": "stream",
          "name": "stdout",
          "text": [
            "True\n",
            "True\n",
            "False\n"
          ]
        }
      ]
    },
    {
      "cell_type": "code",
      "source": [
        "# 9. Write a Python program to convert user input from string to integer, float, and boolean types.\n",
        "number = input(\"Enter a number :- \")\n",
        "integer_number = int(number)\n",
        "print(\"Integer number\", integer_number)\n",
        "float_number = float(number)\n",
        "print(\"Float number\", float_number)\n",
        "boolean_value = bool(number)\n",
        "print(\"Boolean value\", boolean_value)\n",
        "print()\n",
        "\n",
        "#boolean value gives false only when the string is empty\n",
        "#example :-\n",
        "number1= \"\"\n",
        "boolean_value1 = bool(number1)\n",
        "print(\"Boolean value\", boolean_value1)\n"
      ],
      "metadata": {
        "colab": {
          "base_uri": "https://localhost:8080/"
        },
        "id": "kF4zulaBkOIA",
        "outputId": "53e8e2ee-b618-4304-c228-1a78b7915ced"
      },
      "execution_count": 50,
      "outputs": [
        {
          "output_type": "stream",
          "name": "stdout",
          "text": [
            "Enter a number :- 75\n",
            "Integer number 75\n",
            "Float number 75.0\n",
            "Boolean value True\n",
            "\n",
            "Boolean value False\n"
          ]
        }
      ]
    },
    {
      "cell_type": "code",
      "source": [
        " # 10. Write code to demonstrate type casting with list elements.\n",
        "str_list = [\"10\", \"20\", \"30\", \"40\"]\n",
        "print(\"Original list (string type):\", str_list)\n",
        "int_list = [int(x) for x in str_list]\n",
        "print(\"After type casting to integers:\", int_list)\n",
        "float_list = [float(x) for x in str_list]\n",
        "print(\"After type casting to floats:\", float_list)\n",
        "# Type casting each element into boolean"
      ],
      "metadata": {
        "colab": {
          "base_uri": "https://localhost:8080/"
        },
        "id": "bWbGQbj9nkDJ",
        "outputId": "85d48c5d-5d9a-4237-e861-1de861acbd7d"
      },
      "execution_count": 55,
      "outputs": [
        {
          "output_type": "stream",
          "name": "stdout",
          "text": [
            "Original list (string type): ['10', '20', '30', '40']\n",
            "After type casting to integers: [10, 20, 30, 40]\n",
            "After type casting to floats: [10.0, 20.0, 30.0, 40.0]\n"
          ]
        }
      ]
    },
    {
      "cell_type": "code",
      "source": [
        "# 11. Write a program that checks if a number is positive, negative, or zero.\n",
        "number = int(input(\"enter the number\"))\n",
        "if number == 0:\n",
        "  print(\"number is zero\")\n",
        "elif number > 0:\n",
        "  print(\"number is positive\")\n",
        "else:\n",
        "  print(\"number is negative\")\n"
      ],
      "metadata": {
        "colab": {
          "base_uri": "https://localhost:8080/"
        },
        "id": "-pAObsJixu4J",
        "outputId": "d1c3fc84-d818-4e66-9b11-db98ff5e29dd"
      },
      "execution_count": 93,
      "outputs": [
        {
          "output_type": "stream",
          "name": "stdout",
          "text": [
            "enter the number5\n",
            "number is positive\n"
          ]
        }
      ]
    },
    {
      "cell_type": "code",
      "source": [
        "# 12. Write a for loop to print numbers from 1 to 10.\n",
        "for i in range(1, 11):\n",
        "  print(i)"
      ],
      "metadata": {
        "colab": {
          "base_uri": "https://localhost:8080/"
        },
        "id": "aaDjkcO_yxna",
        "outputId": "70a8dc47-baba-4da2-c59e-20468fe723f8"
      },
      "execution_count": 64,
      "outputs": [
        {
          "output_type": "stream",
          "name": "stdout",
          "text": [
            "1\n",
            "2\n",
            "3\n",
            "4\n",
            "5\n",
            "6\n",
            "7\n",
            "8\n",
            "9\n",
            "10\n"
          ]
        }
      ]
    },
    {
      "cell_type": "code",
      "source": [
        "# 13. Write a Python program to find the sum of all even numbers between 1 and 50.\n",
        "total=0\n",
        "for i in range(1,51):\n",
        "  if i % 2 == 0:\n",
        "    total += i\n",
        "print(\"sum of all even numbers between 1 and 50 :-\", total)\n",
        "\n",
        "\n",
        "\n",
        "\n",
        "\n",
        ""
      ],
      "metadata": {
        "colab": {
          "base_uri": "https://localhost:8080/"
        },
        "id": "egOHa3xMzOB4",
        "outputId": "9ccb5e24-7585-429f-a06c-cf8648405e20"
      },
      "execution_count": 78,
      "outputs": [
        {
          "output_type": "stream",
          "name": "stdout",
          "text": [
            "sum of all even numbers between 1 and 50 :- 650\n"
          ]
        }
      ]
    },
    {
      "cell_type": "code",
      "source": [
        "# 14. Write a program to reverse a string using a while loop.\n",
        "text = \"Sahil\"\n",
        "reversed_str = \"\"\n",
        "i = len(text) - 1\n",
        "while i >=0:\n",
        "  reversed_str += text[i]\n",
        "  i -= 1\n",
        "print(reversed_str)"
      ],
      "metadata": {
        "colab": {
          "base_uri": "https://localhost:8080/"
        },
        "id": "RN4t3wqwy8RO",
        "outputId": "00f3f253-02ef-4973-b952-6b418e0316c7"
      },
      "execution_count": 83,
      "outputs": [
        {
          "output_type": "stream",
          "name": "stdout",
          "text": [
            "lihaS\n"
          ]
        }
      ]
    },
    {
      "cell_type": "code",
      "source": [
        "# 15. Write a Python program to calculate the factorial of a number provided by the user using a while loop.\n",
        "num = int(input(\"enter your number :- \"))\n",
        "factorial = 1\n",
        "i = 1\n",
        "while i <= num:\n",
        "  factorial *= i\n",
        "  i += 1\n",
        "print(f\"factorial of {num} is {factorial}\")"
      ],
      "metadata": {
        "colab": {
          "base_uri": "https://localhost:8080/"
        },
        "id": "JCz4VURB7R-Y",
        "outputId": "a62d1a95-7083-4eff-d901-340ea22afbb8"
      },
      "execution_count": 92,
      "outputs": [
        {
          "output_type": "stream",
          "name": "stdout",
          "text": [
            "enter your number :- 5\n",
            "factorial of 5 is 120\n"
          ]
        }
      ]
    }
  ]
}